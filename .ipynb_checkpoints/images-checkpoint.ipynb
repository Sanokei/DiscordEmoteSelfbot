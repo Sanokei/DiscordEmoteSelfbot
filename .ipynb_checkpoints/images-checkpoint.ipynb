{
 "cells": [
  {
   "cell_type": "code",
   "execution_count": 3,
   "metadata": {},
   "outputs": [],
   "source": [
    "emotes = [\n",
    "    (\"kms\",\"https://cdn.discordapp.com/emojis/663077083337064459.png?v=1\"),\n",
    "    (\"bleh\",\"https://cdn.discordapp.com/emojis/663076786359369738.png?v=1\"),\n",
    "    (\"awoo\",\"https://cdn.discordapp.com/emojis/831066730587619348.png?v=1\"),\n",
    "    (\"genhum\",\"https://cdn.discordapp.com/emojis/688112957460185207.png?v=1\"),\n",
    "    (\"yuigoggles\",\"https://cdn.discordapp.com/emojis/580570290086477825.png?v=1\"),\n",
    "    (\"chiwtf\",\"https://cdn.discordapp.com/emojis/876893127586222080.png?v=1\"),\n",
    "    (\"donasip\",\"https://cdn.discordapp.com/emojis/752002269981179944.png?v=1\"),\n",
    "    (\"makimasip\",\"https://cdn.discordapp.com/emojis/758865428016791562.png?v=1\"),\n",
    "    (\"rampout\",\"https://cdn.discordapp.com/emojis/646882440601927729.png?v=1\"),\n",
    "    (\"wink\",\"https://cdn.discordapp.com/emojis/810142840201412728.png?v=1\"),\n",
    "    (\"kannapog\",\"https://cdn.discordapp.com/emojis/470721070010335264.png?v=1\"),\n",
    "    (\"kannalick\",\"https://cdn.discordapp.com/emojis/561630923892719626.png?v=1\"),\n",
    "    (\"sakurathink\",\"https://cdn.discordapp.com/emojis/635268683383701564.png?v=1\"),\n",
    "    (\"comfigun\",\"https://cdn.discordapp.com/emojis/566365703981236264.png?v=1\"),\n",
    "    (\"shrug\",\"https://cdn.discordapp.com/emojis/663076977883873281.png?v=1\"),\n",
    "    (\"ilyheart\",\"https://cdn.discordapp.com/emojis/711733152208388117.png?v=1\"),\n",
    "    (\"laugh\",\"https://cdn.discordapp.com/emojis/716777304919113778.png?v=1\"),\n",
    "    (\"smoosh\",\"https://cdn.discordapp.com/emojis/706792596667629659.png?v=1\"),\n",
    "    (\"woah\",\"https://cdn.discordapp.com/emojis/798772861242048583.png?v=1\"),\n",
    "    (\"blush\",\"https://cdn.discordapp.com/emojis/746308523784405022.png?v=1\"),\n",
    "    (\"happy\",\"https://cdn.discordapp.com/emojis/780943005557325824.gif?v=1\"),\n",
    "    (\"drain\",\"https://cdn.discordapp.com/emojis/737041622830940220.png?v=1\"),\n",
    "    (\"wat\",\"https://cdn.discordapp.com/emojis/813134380004147210.png?v=1\"),\n",
    "    (\"blush-2\",\"https://cdn.discordapp.com/emojis/751904754514526218.gif?v=1\"),\n",
    "    (\"oki\",\"https://cdn.discordapp.com/emojis/749005731147022367.gif?v=1\"),\n",
    "    (\"smoosh-2\",\"https://cdn.discordapp.com/emojis/746322920913109045.png?v=1\"),\n",
    "    (\"concern\",\"https://cdn.discordapp.com/emojis/817387686565642251.gif?v=1\")\n",
    "]"
   ]
  }
 ],
 "metadata": {
  "kernelspec": {
   "display_name": "Python 3",
   "language": "python",
   "name": "python3"
  },
  "language_info": {
   "codemirror_mode": {
    "name": "ipython",
    "version": 3
   },
   "file_extension": ".py",
   "mimetype": "text/x-python",
   "name": "python",
   "nbconvert_exporter": "python",
   "pygments_lexer": "ipython3",
   "version": "3.8.3"
  }
 },
 "nbformat": 4,
 "nbformat_minor": 4
}
