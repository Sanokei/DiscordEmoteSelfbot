{
 "cells": [
  {
   "cell_type": "code",
   "execution_count": null,
   "metadata": {},
   "outputs": [],
   "source": [
    "import os\n",
    "\n",
    "import discord\n",
    "\n",
    "import config\n",
    "import images"
   ]
  },
  {
   "cell_type": "code",
   "execution_count": null,
   "metadata": {},
   "outputs": [],
   "source": [
    "class Client(discord.Client):\n",
    "    async def on_connect(self):\n",
    "        os.system('clear')\n",
    "        print(f\"\"\"\n",
    "            Client has successfully logged in as {client.user.name}#{client.user.discriminator}\n",
    "            Your discord ID is {client.user.id}\n",
    "        \"\"\")\n",
    "    \n",
    "    async def on_message(self, message):\n",
    "        if message.author != client.user:\n",
    "            return\n",
    "        \n",
    "        if message.content.count(config.prefix) >= 2:\n",
    "            emote_text_list = message.content.split(config.prefix)\n",
    "            if emote_text_list[0] != \"\":\n",
    "                first = emote_text_list[0]\n",
    "            emote_text_list.pop(0)\n",
    "                \n",
    "            if emote_text_list[len(emote_text_list) - 1] != \"\":\n",
    "                last = emote_text_list[len(emote_text_list) - 1]\n",
    "            emote_text_list.pop()\n",
    "\n",
    "            ### \n",
    "            for index,emote_text in enumerate(emote_text_list[::2]):\n",
    "                for image_name, image_value in images.emotes:\n",
    "                    if image_name in emote_text.lower().replace(\" \",\"\"):\n",
    "                        emote_text_list[index] = image_value\n",
    "            ###\n",
    "                        \n",
    "            if 'first' in locals():\n",
    "                emote_text_list.insert(0,first)\n",
    "                \n",
    "            if 'last' in locals():\n",
    "                emote_text_list.append(last)\n",
    "                \n",
    "            await message.delete()\n",
    "            \n",
    "            for text in emote_text_list:\n",
    "                await message.channel.send(text)"
   ]
  },
  {
   "cell_type": "code",
   "execution_count": null,
   "metadata": {},
   "outputs": [],
   "source": [
    "client = Client()\n",
    "try:\n",
    "    client.run(config.token, bot = False)\n",
    "except discord.LoginFailure:\n",
    "    print(\"ERROR: Client failed to log in. [Invalid token]\")\n",
    "except discord.HTTPException:\n",
    "    print(\"ERROR: Client failed to log in. [Unknown Error]\")"
   ]
  }
 ],
 "metadata": {
  "kernelspec": {
   "display_name": "Python 3",
   "language": "python",
   "name": "python3"
  },
  "language_info": {
   "codemirror_mode": {
    "name": "ipython",
    "version": 3
   },
   "file_extension": ".py",
   "mimetype": "text/x-python",
   "name": "python",
   "nbconvert_exporter": "python",
   "pygments_lexer": "ipython3",
   "version": "3.8.3"
  }
 },
 "nbformat": 4,
 "nbformat_minor": 4
}
