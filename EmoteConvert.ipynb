{
 "cells": [
  {
   "cell_type": "code",
   "execution_count": null,
   "metadata": {},
   "outputs": [],
   "source": [
    "import discord\n",
    "\n",
    "import config\n",
    "import images"
   ]
  },
  {
   "cell_type": "code",
   "execution_count": null,
   "metadata": {},
   "outputs": [],
   "source": [
    "class Client(discord.Client):\n",
    "    async def on_connect(self):\n",
    "        print(f\"\"\"\n",
    "            Client has successfully logged in as {client.user.name}#{client.user.discriminator}\n",
    "            Your discord ID is {client.user.id}\n",
    "        \"\"\")\n",
    "    \n",
    "    async def on_message(self, message):\n",
    "        if message.author != client.user:\n",
    "            return\n",
    "        \n",
    "        if message.content.count(config.prefix) >= 2:\n",
    "            emote_text = message.content\n",
    "            emote_text_list = []\n",
    "            for index in message.content.split(config.prefix):\n",
    "                for image_name, image_value in images.emotes:\n",
    "                    if emote_text.count(config.prefix) >= 2:\n",
    "                        emote_text.replace(config.prefix+image_name+config.prefix,config.prefix+image_value+config.prefix)\n",
    "                        emote_text_list = emote_text.split(config.prefix,2)\n",
    "                        final_list = emote_text_list\n",
    "                        emote_text = emote_text_list[2]\n",
    "                        emote_text_list = []\n",
    "                        \n",
    "            await message.delete()\n",
    "            await message.channel.send(text)\n",
    "            \n",
    "            for index,text in enumerate(emote_text_list[1::]):\n",
    "                    if \"https://cdn.discordapp.com/emojis/\" not in text[index-1]:\n",
    "                        emote_text_list[index-1 : index] = [reduce(lambda i, j: i + j, emote_text_list[index-1 : index])]   \n",
    "            \n",
    "            for text in emote_text_list:\n",
    "                await message.channel.send(text)"
   ]
  },
  {
   "cell_type": "code",
   "execution_count": null,
   "metadata": {},
   "outputs": [],
   "source": [
    "client = Client()\n",
    "try:\n",
    "    client.run(config.token, bot = False)\n",
    "except discord.LoginFailure:\n",
    "    print(\"ERROR: Client failed to log in. [Invalid token]\")\n",
    "except discord.HTTPException:\n",
    "    print(\"ERROR: Client failed to log in. [Unknown Error]\")"
   ]
  }
 ],
 "metadata": {
  "kernelspec": {
   "display_name": "Python 3",
   "language": "python",
   "name": "python3"
  },
  "language_info": {
   "codemirror_mode": {
    "name": "ipython",
    "version": 3
   },
   "file_extension": ".py",
   "mimetype": "text/x-python",
   "name": "python",
   "nbconvert_exporter": "python",
   "pygments_lexer": "ipython3",
   "version": "3.8.3"
  }
 },
 "nbformat": 4,
 "nbformat_minor": 4
}
