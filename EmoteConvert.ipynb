{
 "cells": [
  {
   "cell_type": "code",
   "execution_count": 2,
   "metadata": {},
   "outputs": [],
   "source": [
    "import discord\n",
    "import config"
   ]
  },
  {
   "cell_type": "code",
   "execution_count": null,
   "metadata": {},
   "outputs": [],
   "source": [
    "os.system('clear')\n",
    "print(\"Logging in...\")\n",
    "class MyClient(discord.Client):\n",
    "    async def on_connect(self):\n",
    "    os.system('clear')"
   ]
  },
  {
   "cell_type": "code",
   "execution_count": 5,
   "metadata": {},
   "outputs": [
    {
     "ename": "AttributeError",
     "evalue": "'AnsiFore' object has no attribute 'LIGHTBLUE'",
     "output_type": "error",
     "traceback": [
      "\u001b[1;31m---------------------------------------------------------------------------\u001b[0m",
      "\u001b[1;31mAttributeError\u001b[0m                            Traceback (most recent call last)",
      "\u001b[1;32m<ipython-input-5-142b55edbfee>\u001b[0m in \u001b[0;36m<module>\u001b[1;34m\u001b[0m\n\u001b[0;32m      1\u001b[0m print(f\"\"\"\n\u001b[1;32m----> 2\u001b[1;33m \u001b[1;33m{\u001b[0m\u001b[0mColor\u001b[0m\u001b[1;33m.\u001b[0m\u001b[0mLIGHTBLUE\u001b[0m\u001b[1;33m}\u001b[0m\u001b[1;33m\u001b[0m\u001b[1;33m\u001b[0m\u001b[0m\n\u001b[0m\u001b[0;32m      3\u001b[0m \u001b[0m______\u001b[0m \u001b[0m_\u001b[0m                       \u001b[0m_\u001b[0m   \u001b[0m_\u001b[0m   \u001b[0m_\u001b[0m \u001b[0m_\u001b[0m   \u001b[0m_\u001b[0m \u001b[0m_\u001b[0m\u001b[1;33m\u001b[0m\u001b[1;33m\u001b[0m\u001b[0m\n\u001b[0;32m      4\u001b[0m \u001b[1;33m|\u001b[0m  \u001b[0m_\u001b[0m  \u001b[1;33m(\u001b[0m\u001b[0m_\u001b[0m\u001b[1;33m)\u001b[0m                     \u001b[1;33m|\u001b[0m \u001b[1;33m|\u001b[0m \u001b[1;33m|\u001b[0m \u001b[1;33m|\u001b[0m \u001b[1;33m|\u001b[0m \u001b[1;33m|\u001b[0m \u001b[1;33m|\u001b[0m \u001b[1;33m(\u001b[0m\u001b[0m_\u001b[0m\u001b[1;33m)\u001b[0m \u001b[1;33m|\u001b[0m\u001b[1;33m\u001b[0m\u001b[1;33m\u001b[0m\u001b[0m\n\u001b[0;32m      5\u001b[0m \u001b[1;33m|\u001b[0m \u001b[1;33m|\u001b[0m \u001b[1;33m|\u001b[0m \u001b[1;33m|\u001b[0m\u001b[0m_\u001b[0m \u001b[0m___\u001b[0m  \u001b[0m___\u001b[0m \u001b[0m___\u001b[0m  \u001b[0m_\u001b[0m \u001b[0m__\u001b[0m \u001b[0m__\u001b[0m\u001b[1;33m|\u001b[0m \u001b[1;33m|\u001b[0m \u001b[1;33m|\u001b[0m \u001b[1;33m|\u001b[0m \u001b[1;33m|\u001b[0m \u001b[1;33m|\u001b[0m \u001b[1;33m|\u001b[0m\u001b[0m_\u001b[0m \u001b[0m_\u001b[0m\u001b[1;33m|\u001b[0m \u001b[1;33m|\u001b[0m\u001b[0m___\u001b[0m\u001b[1;33m\u001b[0m\u001b[1;33m\u001b[0m\u001b[0m\n",
      "\u001b[1;31mAttributeError\u001b[0m: 'AnsiFore' object has no attribute 'LIGHTBLUE'"
     ]
    }
   ],
   "source": []
  },
  {
   "cell_type": "code",
   "execution_count": null,
   "metadata": {},
   "outputs": [],
   "source": []
  }
 ],
 "metadata": {
  "kernelspec": {
   "display_name": "Python 3",
   "language": "python",
   "name": "python3"
  },
  "language_info": {
   "codemirror_mode": {
    "name": "ipython",
    "version": 3
   },
   "file_extension": ".py",
   "mimetype": "text/x-python",
   "name": "python",
   "nbconvert_exporter": "python",
   "pygments_lexer": "ipython3",
   "version": "3.8.3"
  }
 },
 "nbformat": 4,
 "nbformat_minor": 4
}
